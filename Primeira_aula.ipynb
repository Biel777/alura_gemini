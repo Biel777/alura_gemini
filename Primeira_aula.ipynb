{
  "nbformat": 4,
  "nbformat_minor": 0,
  "metadata": {
    "colab": {
      "provenance": [],
      "authorship_tag": "ABX9TyMuYRIFdO5mEdpdjRa6l81D",
      "include_colab_link": true
    },
    "kernelspec": {
      "name": "python3",
      "display_name": "Python 3"
    },
    "language_info": {
      "name": "python"
    }
  },
  "cells": [
    {
      "cell_type": "markdown",
      "metadata": {
        "id": "view-in-github",
        "colab_type": "text"
      },
      "source": [
        "<a href=\"https://colab.research.google.com/github/Biel777/alura_gemini/blob/main/Primeira_aula.ipynb\" target=\"_parent\"><img src=\"https://colab.research.google.com/assets/colab-badge.svg\" alt=\"Open In Colab\"/></a>"
      ]
    },
    {
      "cell_type": "code",
      "execution_count": null,
      "metadata": {
        "colab": {
          "base_uri": "https://localhost:8080/"
        },
        "id": "lrySE3tCQNF0",
        "outputId": "fd5ee2a5-1513-49a8-df54-be99f3139ae5"
      },
      "outputs": [
        {
          "output_type": "stream",
          "name": "stdout",
          "text": [
            "A palavra secreta tem 7 letras\n",
            "A dica é -> criar e compartilhar documentos que contenham código interativo, visualizações e textos explicativos.\n",
            "O que você acha que é?notion\n",
            "Errou.. a palavra secreta é jupyter\n"
          ]
        }
      ],
      "source": [
        "import requests\n",
        "import random\n",
        "url = 'https://raw.githubusercontent.com/guilhermeonrails/api-imersao-ia/main/words.json'\n",
        "resposta = requests.get(url)\n",
        "data = resposta.json()\n",
        "valor_secreto = random.choice(data)\n",
        "palavra_secreta = valor_secreto[\"palavra\"]\n",
        "dica = valor_secreto[\"dica\"]\n",
        "print(f'A palavra secreta tem {len(palavra_secreta)} letras')\n",
        "print(f'A dica é -> {dica}')\n",
        "#receber o chue ou palpite da tecnologia\n",
        "chute = input(f'O que você acha que é?')\n",
        "if chute == palavra_secreta:\n",
        "  print('Acertou')\n",
        "else:\n",
        "    print(f'Errou.. a palavra secreta é {palavra_secreta}')"
      ]
    }
  ]
}